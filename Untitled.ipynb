{
 "cells": [
  {
   "cell_type": "code",
   "execution_count": 3,
   "metadata": {},
   "outputs": [
    {
     "data": {
      "text/html": [
       "<div>\n",
       "<style scoped>\n",
       "    .dataframe tbody tr th:only-of-type {\n",
       "        vertical-align: middle;\n",
       "    }\n",
       "\n",
       "    .dataframe tbody tr th {\n",
       "        vertical-align: top;\n",
       "    }\n",
       "\n",
       "    .dataframe thead th {\n",
       "        text-align: right;\n",
       "    }\n",
       "</style>\n",
       "<table border=\"1\" class=\"dataframe\">\n",
       "  <thead>\n",
       "    <tr style=\"text-align: right;\">\n",
       "      <th></th>\n",
       "      <th>Y</th>\n",
       "      <th>Unnamed: 2</th>\n",
       "      <th>X</th>\n",
       "      <th>X.1</th>\n",
       "      <th>X.2</th>\n",
       "      <th>X.3</th>\n",
       "      <th>X.4</th>\n",
       "    </tr>\n",
       "  </thead>\n",
       "  <tbody>\n",
       "    <tr>\n",
       "      <th>วันเดือนปี</th>\n",
       "      <td>esso</td>\n",
       "      <td>NaN</td>\n",
       "      <td>set</td>\n",
       "      <td>ptt</td>\n",
       "      <td>gold future</td>\n",
       "      <td>oil future</td>\n",
       "      <td>USD</td>\n",
       "    </tr>\n",
       "    <tr>\n",
       "      <th>2019-12-01 00:00:00</th>\n",
       "      <td>0.1689</td>\n",
       "      <td>NaN</td>\n",
       "      <td>-0.0068</td>\n",
       "      <td>0.0173</td>\n",
       "      <td>0.0361</td>\n",
       "      <td>0.1068</td>\n",
       "      <td>-0.0141</td>\n",
       "    </tr>\n",
       "    <tr>\n",
       "      <th>2019-11-01 00:00:00</th>\n",
       "      <td>0.0068</td>\n",
       "      <td>NaN</td>\n",
       "      <td>-0.0068</td>\n",
       "      <td>-0.0442</td>\n",
       "      <td>-0.0307</td>\n",
       "      <td>0.0183</td>\n",
       "      <td>0.0002</td>\n",
       "    </tr>\n",
       "    <tr>\n",
       "      <th>2019-10-01 00:00:00</th>\n",
       "      <td>-0.087</td>\n",
       "      <td>NaN</td>\n",
       "      <td>-0.0218</td>\n",
       "      <td>-0.0216</td>\n",
       "      <td>0.0278</td>\n",
       "      <td>0.002</td>\n",
       "      <td>-0.0134</td>\n",
       "    </tr>\n",
       "    <tr>\n",
       "      <th>2019-09-01 00:00:00</th>\n",
       "      <td>-0.064</td>\n",
       "      <td>NaN</td>\n",
       "      <td>-0.0107</td>\n",
       "      <td>0.0452</td>\n",
       "      <td>-0.0353</td>\n",
       "      <td>-0.0187</td>\n",
       "      <td>-0.0005</td>\n",
       "    </tr>\n",
       "  </tbody>\n",
       "</table>\n",
       "</div>"
      ],
      "text/plain": [
       "                          Y  Unnamed: 2       X     X.1          X.2  \\\n",
       "วันเดือนปี             esso         NaN     set     ptt  gold future   \n",
       "2019-12-01 00:00:00  0.1689         NaN -0.0068  0.0173       0.0361   \n",
       "2019-11-01 00:00:00  0.0068         NaN -0.0068 -0.0442      -0.0307   \n",
       "2019-10-01 00:00:00  -0.087         NaN -0.0218 -0.0216       0.0278   \n",
       "2019-09-01 00:00:00  -0.064         NaN -0.0107  0.0452      -0.0353   \n",
       "\n",
       "                            X.3     X.4  \n",
       "วันเดือนปี           oil future     USD  \n",
       "2019-12-01 00:00:00      0.1068 -0.0141  \n",
       "2019-11-01 00:00:00      0.0183  0.0002  \n",
       "2019-10-01 00:00:00       0.002 -0.0134  \n",
       "2019-09-01 00:00:00     -0.0187 -0.0005  "
      ]
     },
     "execution_count": 3,
     "metadata": {},
     "output_type": "execute_result"
    }
   ],
   "source": [
    "import pandas as pd\n",
    "import numpy as np\n",
    "import statsmodels.formula.api as smf\n",
    "import matplotlib.pyplot as plt\n",
    "import statsmodels.stats.api as sms\n",
    "from statsmodels.compat import lzip\n",
    "data= pd.read_excel('na1.xlsx', index_col=0)\n",
    "\n",
    "data.head()\n",
    "\n"
   ]
  },
  {
   "cell_type": "code",
   "execution_count": 49,
   "metadata": {
    "scrolled": true
   },
   "outputs": [
    {
     "data": {
      "text/html": [
       "<div>\n",
       "<style scoped>\n",
       "    .dataframe tbody tr th:only-of-type {\n",
       "        vertical-align: middle;\n",
       "    }\n",
       "\n",
       "    .dataframe tbody tr th {\n",
       "        vertical-align: top;\n",
       "    }\n",
       "\n",
       "    .dataframe thead th {\n",
       "        text-align: right;\n",
       "    }\n",
       "</style>\n",
       "<table border=\"1\" class=\"dataframe\">\n",
       "  <thead>\n",
       "    <tr style=\"text-align: right;\">\n",
       "      <th></th>\n",
       "      <th>rSE</th>\n",
       "      <th>rSET</th>\n",
       "      <th>rEXR</th>\n",
       "      <th>rCCI</th>\n",
       "      <th>rCPI</th>\n",
       "      <th>rUR</th>\n",
       "      <th>rCP</th>\n",
       "    </tr>\n",
       "    <tr>\n",
       "      <th>Date</th>\n",
       "      <th></th>\n",
       "      <th></th>\n",
       "      <th></th>\n",
       "      <th></th>\n",
       "      <th></th>\n",
       "      <th></th>\n",
       "      <th></th>\n",
       "    </tr>\n",
       "  </thead>\n",
       "  <tbody>\n",
       "    <tr>\n",
       "      <th>2019-08-01</th>\n",
       "      <td>0.078665</td>\n",
       "      <td>-0.090496</td>\n",
       "      <td>-0.000214</td>\n",
       "      <td>-0.003838</td>\n",
       "      <td>-0.006533</td>\n",
       "      <td>0.002148</td>\n",
       "      <td>-0.031700</td>\n",
       "    </tr>\n",
       "    <tr>\n",
       "      <th>2019-09-01</th>\n",
       "      <td>0.025277</td>\n",
       "      <td>-0.016690</td>\n",
       "      <td>-0.001737</td>\n",
       "      <td>-0.007775</td>\n",
       "      <td>0.003273</td>\n",
       "      <td>-0.004109</td>\n",
       "      <td>-0.032738</td>\n",
       "    </tr>\n",
       "    <tr>\n",
       "      <th>2019-10-01</th>\n",
       "      <td>0.051498</td>\n",
       "      <td>-0.046457</td>\n",
       "      <td>-0.001841</td>\n",
       "      <td>0.001994</td>\n",
       "      <td>-0.005231</td>\n",
       "      <td>0.001074</td>\n",
       "      <td>-0.040000</td>\n",
       "    </tr>\n",
       "    <tr>\n",
       "      <th>2019-11-01</th>\n",
       "      <td>0.016064</td>\n",
       "      <td>-0.008387</td>\n",
       "      <td>-0.001118</td>\n",
       "      <td>-0.011889</td>\n",
       "      <td>-0.004257</td>\n",
       "      <td>-0.001478</td>\n",
       "      <td>-0.025641</td>\n",
       "    </tr>\n",
       "    <tr>\n",
       "      <th>2019-12-01</th>\n",
       "      <td>0.016064</td>\n",
       "      <td>-0.004802</td>\n",
       "      <td>-0.000179</td>\n",
       "      <td>0.000000</td>\n",
       "      <td>0.000328</td>\n",
       "      <td>-0.001062</td>\n",
       "      <td>-0.049342</td>\n",
       "    </tr>\n",
       "  </tbody>\n",
       "</table>\n",
       "</div>"
      ],
      "text/plain": [
       "                 rSE      rSET      rEXR      rCCI      rCPI       rUR  \\\n",
       "Date                                                                     \n",
       "2019-08-01  0.078665 -0.090496 -0.000214 -0.003838 -0.006533  0.002148   \n",
       "2019-09-01  0.025277 -0.016690 -0.001737 -0.007775  0.003273 -0.004109   \n",
       "2019-10-01  0.051498 -0.046457 -0.001841  0.001994 -0.005231  0.001074   \n",
       "2019-11-01  0.016064 -0.008387 -0.001118 -0.011889 -0.004257 -0.001478   \n",
       "2019-12-01  0.016064 -0.004802 -0.000179  0.000000  0.000328 -0.001062   \n",
       "\n",
       "                 rCP  \n",
       "Date                  \n",
       "2019-08-01 -0.031700  \n",
       "2019-09-01 -0.032738  \n",
       "2019-10-01 -0.040000  \n",
       "2019-11-01 -0.025641  \n",
       "2019-12-01 -0.049342  "
      ]
     },
     "execution_count": 49,
     "metadata": {},
     "output_type": "execute_result"
    }
   ],
   "source": [
    "def LogDiff(x):\n",
    "    x_diff = 100*np.log(x/x.shift(1))\n",
    "    x_diff = x_diff.dropna()\n",
    "    return x_diff\n",
    "b1=\t-2.3623\n",
    "b2=\t2.9708\n",
    "b3=\t0.2730\n",
    "b4=\t0.3058\n",
    "b5=\t3.3644\n",
    "b6=\t-0.0045\n",
    "\n",
    "\n",
    "\n",
    "data = pd.DataFrame({'rSE':b1*data['SET'],\n",
    "                     'rSET':b2*data['SET50'],\n",
    "                     'rEXR':b3*data['EXR'],\n",
    "                     'rCCI':b4*data['CCI'],\n",
    "                     'rCPI':b5*data['CPI'],\n",
    "                     'rUR':b6*data['UR'],\n",
    "                     'rCP':data['CPALL']\n",
    "                    })\n",
    "\n",
    "\n",
    "data.tail()"
   ]
  },
  {
   "cell_type": "code",
   "execution_count": 50,
   "metadata": {},
   "outputs": [],
   "source": [
    "import pickle \n",
    "with open('Book1.pickle','wb') as handle:\n",
    "    pickle.dump(data, handle)"
   ]
  },
  {
   "cell_type": "code",
   "execution_count": 51,
   "metadata": {},
   "outputs": [
    {
     "name": "stdout",
     "output_type": "stream",
     "text": [
      "                            OLS Regression Results                            \n",
      "==============================================================================\n",
      "Dep. Variable:                    rCP   R-squared:                       0.391\n",
      "Model:                            OLS   Adj. R-squared:                  0.320\n",
      "Method:                 Least Squares   F-statistic:                     5.555\n",
      "Date:                Wed, 28 Oct 2020   Prob (F-statistic):           0.000165\n",
      "Time:                        21:15:17   Log-Likelihood:                 100.33\n",
      "No. Observations:                  59   AIC:                            -186.7\n",
      "Df Residuals:                      52   BIC:                            -172.1\n",
      "Df Model:                           6                                         \n",
      "Covariance Type:            nonrobust                                         \n",
      "==============================================================================\n",
      "                 coef    std err          t      P>|t|      [0.025      0.975]\n",
      "------------------------------------------------------------------------------\n",
      "Intercept      0.0087      0.006      1.367      0.178      -0.004       0.021\n",
      "rSE            0.9653      0.447      2.158      0.036       0.068       1.863\n",
      "rSET           0.9786      0.336      2.910      0.005       0.304       1.653\n",
      "rEXR           1.2670      2.085      0.608      0.546      -2.916       5.450\n",
      "rCCI           0.9848      0.339      2.902      0.005       0.304       1.666\n",
      "rCPI           0.8190      0.752      1.089      0.281      -0.690       2.328\n",
      "rUR            1.6617      3.677      0.452      0.653      -5.717       9.040\n",
      "==============================================================================\n",
      "Omnibus:                        2.173   Durbin-Watson:                   1.277\n",
      "Prob(Omnibus):                  0.337   Jarque-Bera (JB):                1.458\n",
      "Skew:                           0.115   Prob(JB):                        0.482\n",
      "Kurtosis:                       3.735   Cond. No.                         603.\n",
      "==============================================================================\n",
      "\n",
      "Warnings:\n",
      "[1] Standard Errors assume that the covariance matrix of the errors is correctly specified.\n"
     ]
    }
   ],
   "source": [
    "formula ='rCP ~ rSE + rSET + rEXR + rCCI + rCPI + rUR'\n",
    "results = smf.ols(formula,data).fit()\n",
    "print(results.summary())"
   ]
  },
  {
   "cell_type": "code",
   "execution_count": 55,
   "metadata": {},
   "outputs": [
    {
     "name": "stdout",
     "output_type": "stream",
     "text": [
      "<F test: F=array([[1.02426119]]), p=0.40353565496618615, df_denom=52, df_num=4>\n"
     ]
    }
   ],
   "source": [
    "hypotheses ='rEXR = rUR = rCPI = Intercept = 0'\n",
    "f_test = results.f_test(hypotheses)\n",
    "print(f_test)"
   ]
  },
  {
   "cell_type": "code",
   "execution_count": 56,
   "metadata": {},
   "outputs": [
    {
     "data": {
      "image/png": "[encoded data removed]",
      "text/plain": [
       "<Figure size 432x288 with 1 Axes>"
      ]
     },
     "metadata": {
      "needs_background": "light"
     },
     "output_type": "display_data"
    }
   ],
   "source": [
    "plt.figure(1)\n",
    "plt.plot(results.resid)\n",
    "plt.xlabel('Date')\n",
    "plt.ylabel('Residuals')\n",
    "plt.grid(True)\n",
    "plt.show()"
   ]
  },
  {
   "cell_type": "code",
   "execution_count": 57,
   "metadata": {},
   "outputs": [
    {
     "data": {
      "text/plain": [
       "[('Lagrange multiplier statistic', 6.001637288579261),\n",
       " ('p-value', 0.423006695607309),\n",
       " ('f-value', 0.9814301267677646),\n",
       " ('f p-value', 0.4473110765535492)]"
      ]
     },
     "execution_count": 57,
     "metadata": {},
     "output_type": "execute_result"
    }
   ],
   "source": [
    "name= ['Lagrange multiplier statistic','p-value','f-value','f p-value']\n",
    "test = sms.het_breuschpagan(results.resid,results.model.exog)\n",
    "lzip(name,test)"
   ]
  },
  {
   "cell_type": "code",
   "execution_count": null,
   "metadata": {},
   "outputs": [],
   "source": []
  },
  {
   "cell_type": "code",
   "execution_count": null,
   "metadata": {},
   "outputs": [],
   "source": []
  },
  {
   "cell_type": "code",
   "execution_count": null,
   "metadata": {},
   "outputs": [],
   "source": []
  },
  {
   "cell_type": "code",
   "execution_count": null,
   "metadata": {},
   "outputs": [],
   "source": []
  },
  {
   "cell_type": "code",
   "execution_count": null,
   "metadata": {},
   "outputs": [],
   "source": []
  },
  {
   "cell_type": "code",
   "execution_count": null,
   "metadata": {},
   "outputs": [],
   "source": []
  },
  {
   "cell_type": "code",
   "execution_count": null,
   "metadata": {},
   "outputs": [],
   "source": []
  },
  {
   "cell_type": "code",
   "execution_count": null,
   "metadata": {},
   "outputs": [],
   "source": []
  },
  {
   "cell_type": "code",
   "execution_count": null,
   "metadata": {},
   "outputs": [],
   "source": []
  },
  {
   "cell_type": "code",
   "execution_count": null,
   "metadata": {},
   "outputs": [],
   "source": []
  },
  {
   "cell_type": "code",
   "execution_count": null,
   "metadata": {},
   "outputs": [],
   "source": []
  },
  {
   "cell_type": "code",
   "execution_count": null,
   "metadata": {},
   "outputs": [],
   "source": []
  },
  {
   "cell_type": "code",
   "execution_count": null,
   "metadata": {},
   "outputs": [],
   "source": []
  },
  {
   "cell_type": "code",
   "execution_count": null,
   "metadata": {},
   "outputs": [],
   "source": []
  },
  {
   "cell_type": "code",
   "execution_count": null,
   "metadata": {},
   "outputs": [],
   "source": []
  },
  {
   "cell_type": "code",
   "execution_count": null,
   "metadata": {},
   "outputs": [],
   "source": []
  },
  {
   "cell_type": "code",
   "execution_count": null,
   "metadata": {},
   "outputs": [],
   "source": []
  },
  {
   "cell_type": "code",
   "execution_count": null,
   "metadata": {},
   "outputs": [],
   "source": []
  },
  {
   "cell_type": "code",
   "execution_count": null,
   "metadata": {},
   "outputs": [],
   "source": []
  },
  {
   "cell_type": "code",
   "execution_count": null,
   "metadata": {},
   "outputs": [],
   "source": []
  },
  {
   "cell_type": "code",
   "execution_count": null,
   "metadata": {},
   "outputs": [],
   "source": []
  },
  {
   "cell_type": "code",
   "execution_count": null,
   "metadata": {},
   "outputs": [],
   "source": []
  },
  {
   "cell_type": "code",
   "execution_count": null,
   "metadata": {},
   "outputs": [],
   "source": []
  },
  {
   "cell_type": "code",
   "execution_count": null,
   "metadata": {},
   "outputs": [],
   "source": []
  },
  {
   "cell_type": "code",
   "execution_count": null,
   "metadata": {},
   "outputs": [],
   "source": []
  },
  {
   "cell_type": "code",
   "execution_count": null,
   "metadata": {},
   "outputs": [],
   "source": [
    "\n"
   ]
  }
 ],
 "metadata": {
  "kernelspec": {
   "display_name": "Python 3",
   "language": "python",
   "name": "python3"
  },
  "language_info": {
   "codemirror_mode": {
    "name": "ipython",
    "version": 3
   },
   "file_extension": ".py",
   "mimetype": "text/x-python",
   "name": "python",
   "nbconvert_exporter": "python",
   "pygments_lexer": "ipython3",
   "version": "3.8.3"
  }
 },
 "nbformat": 4,
 "nbformat_minor": 4
}
